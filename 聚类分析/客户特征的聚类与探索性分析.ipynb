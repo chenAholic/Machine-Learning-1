{
 "cells": [
  {
   "cell_type": "markdown",
   "metadata": {},
   "source": [
    "# 项目背景\n",
    "\n",
    "某天，业务部门拿到了一些关于客户的数据找到数据部门，苦于没有分析入手点，希望数据部门通过对这些数据的分析，给业务部门一些启示，或者提供后续分析或业务思考的建议。\n",
    "\n",
    "基于上述场景和需求，本次分析的交付需求如下：\n",
    "- 这是一次EDA任务，且业务方没有任何先验经验提供给数据部门。\n",
    "- 分析结果用于业务的知识启发或后续分析的深入应用。\n",
    "- 除数据统计和基本展示类的探索性分析以外的数据挖掘。\n",
    "\n",
    "#### 数据源特征：\n",
    "- USER_ID:用户ID列，整数型。该列作为用户唯一ID标志，这意味着该列不能作为聚类的特征，而只能作为用户聚类后的所属类的标记。\n",
    "- AVG_ORDERS:平均用户订单数量，浮点型。\n",
    "- AVG_MONEY:平均订单价值，即每单的订单价格，浮点型。\n",
    "- IS_ACTIVE:是否活跃，通过其他模型得到的结果，字符串型。\n",
    "- SEX:性别，以0，1，2来表示性别未知、男和女3个值。\n",
    "\n",
    "#### 分析思路：\n",
    "- 字符串型特征不能直接作训练，因为sklearn的对象一般都是数值型的向量矩阵或稀疏矩阵，而不能是原生字符串。\n",
    "- SEX本质是分类型变量，不能直接参与距离计算。\n",
    "- AVG_ORDERS和AVG_MONEY具有明显的量纲差异，需要作无量纲化处理。\n",
    "- 分割ID列。"
   ]
  },
  {
   "cell_type": "code",
   "execution_count": 57,
   "metadata": {},
   "outputs": [],
   "source": [
    "#导入包\n",
    "import pandas as pd\n",
    "import numpy as np\n",
    "import matplotlib.pyplot as plt\n",
    "%matplotlib inline\n",
    "from sklearn.preprocessing import MinMaxScaler\n",
    "from sklearn.cluster import KMeans\n",
    "from sklearn.metrics import calinski_harabaz_score,silhouette_score"
   ]
  },
  {
   "cell_type": "code",
   "execution_count": 15,
   "metadata": {},
   "outputs": [],
   "source": [
    "raw_data = pd.read_csv('cluster.txt')\n",
    "#数值型特征\n",
    "numeric_feature = raw_data.iloc[:,1:3]"
   ]
  },
  {
   "cell_type": "code",
   "execution_count": 18,
   "metadata": {},
   "outputs": [
    {
     "name": "stdout",
     "output_type": "stream",
     "text": [
      "[[0.64200477 0.62591687]\n",
      " [0.91169451 0.80440098]\n",
      " [0.69451074 0.39608802]\n",
      " ...\n",
      " [0.3221957  0.17359413]\n",
      " [0.42004773 0.31295844]\n",
      " [0.64916468 0.40831296]]\n"
     ]
    }
   ],
   "source": [
    "#标准化\n",
    "scaler = MinMaxScaler()\n",
    "scaled_numeric_feature = scaler.fit_transform(numeric_feature)\n",
    "print(scaled_numeric_feature[:,:2])"
   ]
  },
  {
   "cell_type": "code",
   "execution_count": 25,
   "metadata": {},
   "outputs": [
    {
     "data": {
      "text/plain": [
       "KMeans(algorithm='auto', copy_x=True, init='k-means++', max_iter=300,\n",
       "       n_clusters=3, n_init=10, n_jobs=None, precompute_distances='auto',\n",
       "       random_state=0, tol=0.0001, verbose=0)"
      ]
     },
     "execution_count": 25,
     "metadata": {},
     "output_type": "execute_result"
    }
   ],
   "source": [
    "#训练模型\n",
    "n_cluster = 3\n",
    "model_kmeans = KMeans(n_clusters = n_cluster, random_state=0)\n",
    "model_kmeans.fit(scaled_numeric_feature)"
   ]
  },
  {
   "cell_type": "code",
   "execution_count": 27,
   "metadata": {},
   "outputs": [
    {
     "name": "stdout",
     "output_type": "stream",
     "text": [
      "sample: 1000 \t features: 4\n"
     ]
    }
   ],
   "source": [
    "#模型效果评估\n",
    "n_samples,n_features = raw_data.iloc[:,1:].shape  #总样本数，总特征数\n",
    "print('sample: %d \\t features: %d' % (n_samples,n_features))"
   ]
  },
  {
   "cell_type": "code",
   "execution_count": 31,
   "metadata": {},
   "outputs": [
    {
     "name": "stdout",
     "output_type": "stream",
     "text": [
      "\n",
      " unspuervised_score: \n",
      " ------------------------------------------------------------\n",
      "       silh          c&h\n",
      "0  0.634086  2860.821834\n"
     ]
    }
   ],
   "source": [
    "#非监督式评估方法\n",
    "silhouette_s = silhouette_score(scaled_numeric_feature, model_kmeans.labels_, metric='euclidean')\n",
    "calinski_harabaz_s = calinski_harabaz_score(scaled_numeric_feature, model_kmeans.labels_) # Calinski和harabaz得分\n",
    "unspuervised_data = {'silh':[silhouette_s], 'c&h':[calinski_harabaz_s]}\n",
    "unspuervised_score = pd.DataFrame.from_dict(unspuervised_data)\n",
    "print(\"\\n\",'unspuervised_score:', '\\n', '-'*60)\n",
    "print(unspuervised_score)"
   ]
  },
  {
   "cell_type": "markdown",
   "metadata": {},
   "source": [
    "上述结果中，显示了聚类的效果还不错。以silh为例，当其值>0.5时，说明聚类质量较优。优秀与否的基本原则是不同类别间是否具有显著的区分效应。"
   ]
  },
  {
   "cell_type": "code",
   "execution_count": 35,
   "metadata": {},
   "outputs": [
    {
     "name": "stdout",
     "output_type": "stream",
     "text": [
      "   USER_ID  AVG_ORDERS  AVG_MONEY IS_ACTIVE  SEX  labels\n",
      "0        1        3.58      40.43        活跃    1       2\n",
      "1        2        4.71      41.16       不活跃    1       2\n",
      "2        3        3.80      39.49       不活跃    2       1\n",
      "3        4        2.85      38.36       不活跃    1       0\n",
      "4        5        3.71      38.34        活跃    1       1\n"
     ]
    }
   ],
   "source": [
    "#合并数据和特征\n",
    "kmeans_labels = pd.DataFrame(model_kmeans.labels_, columns = ['labels'])\n",
    "#组合原始数据和标签\n",
    "kmeans_data = pd.concat([raw_data, kmeans_labels], axis=1)\n",
    "print(kmeans_data.head())"
   ]
  },
  {
   "cell_type": "code",
   "execution_count": 41,
   "metadata": {},
   "outputs": [
    {
     "name": "stdout",
     "output_type": "stream",
     "text": [
      "        record_count  record_rate\n",
      "labels                           \n",
      "0                332        0.332\n",
      "1                337        0.337\n",
      "2                331        0.331\n"
     ]
    }
   ],
   "source": [
    "#计算不同聚类类别的样本量和占比\n",
    "label_count = kmeans_data.groupby(['labels'])['SEX'].count()\n",
    "label_count_ratio = label_count / kmeans_data.shape[0]\n",
    "kmeans_record_count = pd.concat([label_count,label_count_ratio], axis=1)\n",
    "kmeans_record_count.columns = ['record_count', 'record_rate']\n",
    "print(kmeans_record_count.head())"
   ]
  },
  {
   "cell_type": "code",
   "execution_count": 44,
   "metadata": {},
   "outputs": [
    {
     "name": "stdout",
     "output_type": "stream",
     "text": [
      "        AVG_ORDERS  AVG_MONEY\n",
      "labels                       \n",
      "0         2.022349  38.980602\n",
      "1         3.987389  39.028754\n",
      "2         3.958610  40.996254\n"
     ]
    }
   ],
   "source": [
    "#计算不同聚类类别数值型特征\n",
    "kmeans_numeric_features = kmeans_data.groupby(['labels'])['AVG_ORDERS', 'AVG_MONEY'].mean()\n",
    "print(kmeans_numeric_features)"
   ]
  },
  {
   "cell_type": "code",
   "execution_count": 52,
   "metadata": {},
   "outputs": [],
   "source": [
    "#计算不同聚类类别分类型特征\n",
    "active_list = []\n",
    "sex_gb_list = []\n",
    "unique_labels = np.unique(model_kmeans.labels_)\n",
    "for each_label in unique_labels:\n",
    "    each_data = kmeans_data[kmeans_data['labels']==each_label]\n",
    "    active_list.append(each_data.groupby(['IS_ACTIVE'])['USER_ID'].count()/each_data.shape[0])\n",
    "    sex_gb_list.append(each_data.groupby(['SEX'])['USER_ID'].count()/each_data.shape[0])\n",
    "\n",
    "kmeans_active_pd = pd.DataFrame(active_list)\n",
    "kmeans_sex_gb_pd = pd.DataFrame(sex_gb_list)\n",
    "kmeans_string_features = pd.concat((kmeans_active_pd,kmeans_sex_gb_pd), axis=1)\n",
    "kmeans_string_features.index = unique_labels"
   ]
  },
  {
   "cell_type": "code",
   "execution_count": 53,
   "metadata": {},
   "outputs": [],
   "source": [
    "#合并所有类别的分析结果"
   ]
  },
  {
   "cell_type": "code",
   "execution_count": 55,
   "metadata": {},
   "outputs": [
    {
     "name": "stdout",
     "output_type": "stream",
     "text": [
      "   record_count  record_rate  AVG_ORDERS  AVG_MONEY       不活跃        活跃  \\\n",
      "0           332        0.332    2.022349  38.980602  0.487952  0.512048   \n",
      "1           337        0.337    3.987389  39.028754  0.495549  0.504451   \n",
      "2           331        0.331    3.958610  40.996254  0.504532  0.495468   \n",
      "\n",
      "          0         1         2  \n",
      "0  0.003012  0.990964  0.006024  \n",
      "1  0.014837  0.014837  0.970326  \n",
      "2  0.984894  0.009063  0.006042  \n"
     ]
    }
   ],
   "source": [
    "features_all = pd.concat((kmeans_record_count,kmeans_numeric_features,kmeans_string_features), axis=1)\n",
    "print(features_all.head())"
   ]
  },
  {
   "cell_type": "code",
   "execution_count": 59,
   "metadata": {},
   "outputs": [
    {
     "data": {
      "image/png": "[encoded data removed]",
      "text/plain": [
       "<Figure size 720x504 with 15 Axes>"
      ]
     },
     "metadata": {},
     "output_type": "display_data"
    }
   ],
   "source": [
    "# 可视化图形展示\n",
    "# part 1 全局配置\n",
    "fig = plt.figure(figsize=(10, 7))\n",
    "titles = ['RECORD_RATE','AVG_ORDERS','AVG_MONEY','IS_ACTIVE','SEX'] # 共用标题\n",
    "line_index,col_index = 3,5 # 定义网格数\n",
    "ax_ids = np.arange(1,16).reshape(line_index,col_index) # 生成子网格索引值\n",
    "plt.rcParams['font.sans-serif']=['SimHei'] #用来正常显示中文标签\n",
    "    \n",
    "# part 2 画出三个类别的占比\n",
    "pie_fracs = features_all['record_rate'].tolist()\n",
    "for ind in range(len(pie_fracs)):\n",
    "    ax = fig.add_subplot(line_index, col_index, ax_ids[:,0][ind])\n",
    "    init_labels = ['','',''] # 初始化空label标签\n",
    "    init_labels[ind] = 'cluster_{0}'.format(ind) # 设置标签\n",
    "    init_colors = ['lightgray', 'lightgray', 'lightgray']\n",
    "    init_colors[ind] = 'g' # 设置目标面积区别颜色\n",
    "    ax.pie(x=pie_fracs, autopct='%3.0f %%',labels=init_labels,colors=init_colors)\n",
    "    ax.set_aspect('equal') # 设置饼图为圆形\n",
    "    if ind == 0:\n",
    "        ax.set_title(titles[0])\n",
    "    \n",
    "# part 3  画出AVG_ORDERS均值\n",
    "avg_orders_label = 'AVG_ORDERS'\n",
    "avg_orders_fraces = features_all[avg_orders_label]\n",
    "for ind, frace in enumerate(avg_orders_fraces):\n",
    "    ax = fig.add_subplot(line_index, col_index, ax_ids[:,1][ind])\n",
    "    ax.bar(x=unique_labels,height=[0,avg_orders_fraces[ind],0])# 画出柱形图\n",
    "    ax.set_ylim((0, max(avg_orders_fraces)*1.2))\n",
    "    ax.set_xticks([])\n",
    "    ax.set_yticks([])\n",
    "    if ind == 0:# 设置总标题\n",
    "        ax.set_title(titles[1])\n",
    "    # 设置每个柱形图的数值标签和x轴label\n",
    "    ax.text(unique_labels[1],frace+0.4,s='{:.2f}'.format(frace),ha='center',va='top')\n",
    "    ax.text(unique_labels[1],-0.4,s=avg_orders_label,ha='center',va='bottom')\n",
    "        \n",
    "# part 4  画出AVG_MONEY均值\n",
    "avg_money_label = 'AVG_MONEY'\n",
    "avg_money_fraces = features_all[avg_money_label]\n",
    "for ind, frace in enumerate(avg_money_fraces):\n",
    "    ax = fig.add_subplot(line_index, col_index, ax_ids[:,2][ind])\n",
    "    ax.bar(x=unique_labels,height=[0,avg_money_fraces[ind],0])# 画出柱形图\n",
    "    ax.set_ylim((0, max(avg_money_fraces)*1.2))\n",
    "    ax.set_xticks([])\n",
    "    ax.set_yticks([])\n",
    "    if ind == 0:# 设置总标题\n",
    "        ax.set_title(titles[2])\n",
    "    # 设置每个柱形图的数值标签和x轴label\n",
    "    ax.text(unique_labels[1],frace+4,s='{:.0f}'.format(frace),ha='center',va='top')\n",
    "    ax.text(unique_labels[1],-4,s=avg_money_label,ha='center',va='bottom')\n",
    "        \n",
    "# part 5  画出是否活跃\n",
    "axtivity_labels = ['不活跃','活跃']\n",
    "x_ticket = [i for i in range(len(axtivity_labels))]\n",
    "activity_data = features_all[axtivity_labels]\n",
    "ylim_max = np.max(np.max(activity_data))\n",
    "for ind,each_data in enumerate(activity_data.values):\n",
    "    ax = fig.add_subplot(line_index, col_index, ax_ids[:,3][ind])\n",
    "    ax.bar(x=x_ticket,height=each_data) # 画出柱形图\n",
    "    ax.set_ylim((0, ylim_max*1.2))\n",
    "    ax.set_xticks([])\n",
    "    ax.set_yticks([])    \n",
    "    if ind == 0:# 设置总标题\n",
    "        ax.set_title(titles[3])\n",
    "    # 设置每个柱形图的数值标签和x轴label\n",
    "    activity_values = ['{:.1%}'.format(i) for i in each_data]\n",
    "    for i in range(len(x_ticket)):\n",
    "        ax.text(x_ticket[i],each_data[i]+0.05,s=activity_values[i],ha='center',va='top')\n",
    "        ax.text(x_ticket[i],-0.05,s=axtivity_labels[i],ha='center',va='bottom')\n",
    "        \n",
    "# part 6  画出性别分布\n",
    "sex_data = features_all.iloc[:,-3:]\n",
    "x_ticket = [i for i in range(len(sex_data))]\n",
    "sex_labels = ['SEX_{}'.format(i) for i in range(3)]\n",
    "ylim_max = np.max(np.max(sex_data))\n",
    "for ind,each_data in enumerate(sex_data.values):\n",
    "    ax = fig.add_subplot(line_index, col_index, ax_ids[:,4][ind])\n",
    "    ax.bar(x=x_ticket,height=each_data) # 画柱形图\n",
    "    ax.set_ylim((0, ylim_max*1.2))\n",
    "    ax.set_xticks([])\n",
    "    ax.set_yticks([])\n",
    "    if ind == 0: # 设置标题\n",
    "       ax.set_title(titles[4])    \n",
    "    # 设置每个柱形图的数值标签和x轴label\n",
    "    sex_values = ['{:.1%}'.format(i) for i in each_data]\n",
    "    for i in range(len(x_ticket)):\n",
    "        ax.text(x_ticket[i],each_data[i]+0.1,s=sex_values[i],ha='center',va='top')\n",
    "        ax.text(x_ticket[i],-0.1,s=sex_labels[i],ha='center',va='bottom')\n",
    "    \n",
    "plt.tight_layout(pad=0.8) #设置默认的间距"
   ]
  },
  {
   "cell_type": "markdown",
   "metadata": {},
   "source": [
    "# 结论\n",
    "\n",
    "聚类后，群体划分为3类：\n",
    "- cluster_0:显著和区分性特征是平均订单量少(仅为2.02)，男性为主的客户群体；\n",
    "- cluster_1:平均订单量多(3.99)，女性为主的客户\n",
    "- cluster_2:与cluster_1类似，但群体属于未知性别。\n",
    "\n",
    "鉴于平均订单价值和活跃程度在所有类别中的分布相对意志和均匀，无法达到区分的特性，也不具有表示该群体的显著性特征。因此忽略。\n",
    "\n",
    "最后，我们得到3类群体：**低价值的男性客户群体、高价值的女性客户群体以及高价值的未知性别客户群体。**\n",
    "\n",
    "**衍生的分析方向**：\n",
    "- 未知性别群体不应该有如此高的平均订单价值，更重要的是其样本量并不少。那么不太可能是随机发生的事件，很可能在某些方面，例如数据采集、客户体验、客户注册等方面存在某些问题，或者这类客户群体就是不愿意透露性别。可作为另一个EDA课题的开始\n",
    "- 第二类高价值的女性客户群体，可做用户喜欢和特征分析，例如看一下她们都是什么事件购买、客单价平均多少、集中品类、折扣力度喜欢、来源渠道、促销方式等是否有明显的集中化倾向。"
   ]
  }
 ],
 "metadata": {
  "kernelspec": {
   "display_name": "Python 3",
   "language": "python",
   "name": "python3"
  },
  "language_info": {
   "codemirror_mode": {
    "name": "ipython",
    "version": 3
   },
   "file_extension": ".py",
   "mimetype": "text/x-python",
   "name": "python",
   "nbconvert_exporter": "python",
   "pygments_lexer": "ipython3",
   "version": "3.6.8"
  }
 },
 "nbformat": 4,
 "nbformat_minor": 2
}
